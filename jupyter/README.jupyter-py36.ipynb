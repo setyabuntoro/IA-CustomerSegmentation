{
 "cells": [
  {
   "cell_type": "markdown",
   "metadata": {
    "collapsed": true
   },
   "source": [
    "# Industry Accelerators - Customer Segmentation"
   ]
  },
  {
   "cell_type": "markdown",
   "metadata": {},
   "source": [
    "### Introduction\n",
    "\n",
    "The Customer Segmentation accelerator includes a structured glossary of more than 100 business terms and a set of sample data science assets. The glossary provides the information architecture that you need to segment customers based on demographics and commonalities in client behaviour. Your data scientists can use the sample notebooks, predictive models, and dashboards to accelerate data preparation, machine learning modeling and data reporting. Since there aren't any predefinied segments well need to discover those segments within the underlying data structure. Once that structure is found the clients will be assigned to their respective clusters. The segmentation basically helps you to understand how segments differ from one another. "
   ]
  },
  {
   "cell_type": "markdown",
   "metadata": {},
   "source": [
    "<p>\n",
    "    <img src=\"../misc/images/acceleratorWorkflow.png\" alt=\"Service details\" style=\"height: 500px;\" align=\"center\" />\n",
    "    <br style=\"clear: both;\" />\n",
    "</p>"
   ]
  },
  {
   "cell_type": "markdown",
   "metadata": {},
   "source": [
    "## Inventory of Artifacts provided"
   ]
  },
  {
   "cell_type": "markdown",
   "metadata": {},
   "source": [
    "### Knowledge Catalog\n",
    "\n",
    "Described in the Knowledge Center  https://www.ibm.com/support/knowledgecenter/en/SSQNUZ"
   ]
  },
  {
   "cell_type": "markdown",
   "metadata": {},
   "source": [
    "### Sample Datasets\n",
    "\n",
    "The sample input datasets are \n",
    "\n",
    "* **'account.csv'** : Account type and Account Information Data, Investment Information, Temporal data\n",
    "* **customer_summary.csv’** : Detailed Customer Transaction Data, Business Metrics, Investment and Income Stats.\n",
    "* **'customer.csv'** : Customer Data, Demographic data. \n",
    "* **event.csv’** : Event data, Event type data, Temporal data.\n",
    "    \n",
    "The idea is to generate a dataset which is used as input for model training and scoring purposes. For that purpose the above datasets initially need to merged\n",
    "\n",
    "Given a list of events which the customers experienced, the script transforms this long form dataset into a wide format with one record per customer, which can be used for modelling. \n",
    "\n",
    "This merged CSV typically will be starting point for the Data preparation. Given a list of transactions that the customer experiences, the script transforms this long form dataset into a wide format with one record per customer, which can be used for modelling purposes.\n",
    "\n",
    "To generate the 'customer_history.csv' find the SQL Query under Scripts > sql > CUSTOMER_FULL_SUMMARY_LATEST_VIEW.sql"
   ]
  },
  {
   "cell_type": "markdown",
   "metadata": {},
   "source": [
    "### Notebooks\n",
    "\n",
    "* **0-data-import** : Connect to a DB2 database, read data from a number of tables, normalize, merge and output data to a CSV file for processing in the next step. This is an optional step - if you prefer to work with the sample CSV data provided with the project, you can skip this step. \n",
    "* **1-model-train**: Load data, prepare and clean and normalize data for model training, principal components analysis, clustering(k-means), visualize clusters, model deployment and saving to ICP4D.\n",
    "* **2-model-score** : Allows the user to score a new data based on the clustering model built during training, test the scoring pipeline as a Web Service, release and deploy Model Scoring REST API Endpoint, release the project, deploy scoring pipeline as a Webservice.\n"
   ]
  },
  {
   "cell_type": "markdown",
   "metadata": {},
   "source": [
    "### Scripts \n",
    "\n",
    "The following scripts are called from the notebooks mentioned above : \n",
    "\n",
    "* **customer_segmentation_prep.py** : Called from 1-model-train notebook. The script carries out the Data Preparation. Ensures that the final dataset contains one record per customer, with variables based on demographics and client behaviour. This is eventually achieved by clustering. the script also performs data cleaning and engineering. \n",
    "\n",
    "* **Segmentation_Scoring_Pipeline.py** : Called from 2-model-score, Executes the model scoring and allows the user to score a new data based on the clustering model built during training, Extracts the highest impact features and collaborates data to be used for the dashboard. "
   ]
  },
  {
   "cell_type": "markdown",
   "metadata": {},
   "source": [
    "### R - Studio\n",
    "\n",
    "* **Dashboard View** : Displays the top action clients. Populates with data returned from the segmentation service including customer segment assignments & feature ranges of each segment. Provides option to run Segmentation Scoring Webservice, visualizes customers within their corresponding segments, "
   ]
  },
  {
   "cell_type": "markdown",
   "metadata": {},
   "source": [
    "### Sequence of steps to run -- \n",
    "\n",
    "* Click notebooks, open 0-data-import & execute step-by-step (Optional)\n",
    "* Click notebooks, open 1-model-train & execute step-by-step\n",
    "* Click notebooks, open 2-model-score & execute step-by-step\n",
    "* Click RStudio, under the **Shiny** sub group click on . In RStudio, navigate to the sub-folder CustomerSegmentationDashboard, open app.R and run the Shiny app by clicking on Run App button\n",
    "                                                          **OR**\n",
    "  If you deployed the app from the asset tab then Launch the dashboard by clicking on the shiny Dashboard under deployments tab in the Project Release    "
   ]
  },
  {
   "cell_type": "markdown",
   "metadata": {},
   "source": [
    "**This project contains Sample Materials, provided under license. <br>\n",
    "Licensed Materials - Property of IBM. <br>\n",
    "© Copyright IBM Corp. 2019. All Rights Reserved. <br>\n",
    "US Government Users Restricted Rights - Use, duplication or disclosure restricted by GSA ADP Schedule Contract with IBM Corp. <br>**"
   ]
  }
 ],
 "metadata": {
  "kernelspec": {
   "display_name": "Python 3",
   "language": "python",
   "name": "python3"
  },
  "language_info": {
   "codemirror_mode": {
    "name": "ipython",
    "version": 3
   },
   "file_extension": ".py",
   "mimetype": "text/x-python",
   "name": "python",
   "nbconvert_exporter": "python",
   "pygments_lexer": "ipython3",
   "version": "3.7.1"
  }
 },
 "nbformat": 4,
 "nbformat_minor": 2
}
